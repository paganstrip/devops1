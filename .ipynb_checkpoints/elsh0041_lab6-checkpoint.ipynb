{
 "cells": [
  {
   "cell_type": "code",
   "execution_count": 1,
   "id": "879cf3b5",
   "metadata": {},
   "outputs": [
    {
     "name": "stdout",
     "output_type": "stream",
     "text": [
      "Collecting PyGithub\n",
      "  Using cached PyGithub-1.55-py3-none-any.whl (291 kB)\n",
      "Requirement already satisfied: pynacl>=1.4.0 in c:\\users\\16138\\anaconda3\\lib\\site-packages (from PyGithub) (1.4.0)\n",
      "Requirement already satisfied: pyjwt>=2.0 in c:\\users\\16138\\anaconda3\\lib\\site-packages (from PyGithub) (2.1.0)\n",
      "Collecting deprecated\n",
      "  Using cached Deprecated-1.2.13-py2.py3-none-any.whl (9.6 kB)\n",
      "Requirement already satisfied: requests>=2.14.0 in c:\\users\\16138\\anaconda3\\lib\\site-packages (from PyGithub) (2.27.1)\n",
      "Requirement already satisfied: six in c:\\users\\16138\\anaconda3\\lib\\site-packages (from pynacl>=1.4.0->PyGithub) (1.16.0)\n",
      "Requirement already satisfied: cffi>=1.4.1 in c:\\users\\16138\\anaconda3\\lib\\site-packages (from pynacl>=1.4.0->PyGithub) (1.15.0)\n",
      "Requirement already satisfied: pycparser in c:\\users\\16138\\anaconda3\\lib\\site-packages (from cffi>=1.4.1->pynacl>=1.4.0->PyGithub) (2.21)\n",
      "Requirement already satisfied: charset-normalizer~=2.0.0 in c:\\users\\16138\\anaconda3\\lib\\site-packages (from requests>=2.14.0->PyGithub) (2.0.4)\n",
      "Requirement already satisfied: certifi>=2017.4.17 in c:\\users\\16138\\anaconda3\\lib\\site-packages (from requests>=2.14.0->PyGithub) (2021.10.8)\n",
      "Requirement already satisfied: idna<4,>=2.5 in c:\\users\\16138\\anaconda3\\lib\\site-packages (from requests>=2.14.0->PyGithub) (3.3)\n",
      "Requirement already satisfied: urllib3<1.27,>=1.21.1 in c:\\users\\16138\\anaconda3\\lib\\site-packages (from requests>=2.14.0->PyGithub) (1.26.9)\n",
      "Requirement already satisfied: wrapt<2,>=1.10 in c:\\users\\16138\\anaconda3\\lib\\site-packages (from deprecated->PyGithub) (1.12.1)\n",
      "Installing collected packages: deprecated, PyGithub\n",
      "Successfully installed PyGithub-1.55 deprecated-1.2.13\n",
      "Note: you may need to restart the kernel to use updated packages.\n"
     ]
    }
   ],
   "source": [
    "%pip install PyGithub"
   ]
  },
  {
   "cell_type": "code",
   "execution_count": 12,
   "id": "ebe66728",
   "metadata": {},
   "outputs": [],
   "source": [
    "from github import Github\n",
    "import yaml\n",
    "# credentials.yml contains your usr/repo and PAT created in step 11 above\n",
    "# So we load the data into a YML object\n",
    "data = yaml.safe_load(open('elsh0041-credentials.yml'))\n",
    "# Extract the user and token from the data object\n",
    "# 0. Complete these 2 lines below\n",
    "user = data['creds']['username']\n",
    "token = data['creds']['token']\n",
    "# using an access token\n",
    "g = Github(token)\n",
    "repo = g.get_repo(user)\n",
    "## Complete your tasks from here\n",
    "# 1. Get all branches you have created for your public repo\n",
    "print(list(repo.get_branches()))\n",
    "\n",
    "# 2. Get all pull requests you have created\n",
    "pulls = repo.get_pulls(state='open', sort='created', base='main')\n",
    "for pr in pulls:\n",
    "    print(pr.number)\n",
    "\n",
    "# 3. Get a list of commits you have created in your `main` branch\n"
   ]
  },
  {
   "cell_type": "code",
   "execution_count": null,
   "id": "66c34765",
   "metadata": {},
   "outputs": [],
   "source": []
  },
  {
   "cell_type": "code",
   "execution_count": null,
   "id": "29239a0b",
   "metadata": {},
   "outputs": [],
   "source": []
  }
 ],
 "metadata": {
  "kernelspec": {
   "display_name": "Python 3 (ipykernel)",
   "language": "python",
   "name": "python3"
  },
  "language_info": {
   "codemirror_mode": {
    "name": "ipython",
    "version": 3
   },
   "file_extension": ".py",
   "mimetype": "text/x-python",
   "name": "python",
   "nbconvert_exporter": "python",
   "pygments_lexer": "ipython3",
   "version": "3.9.12"
  }
 },
 "nbformat": 4,
 "nbformat_minor": 5
}
